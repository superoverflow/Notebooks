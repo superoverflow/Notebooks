{
  "nbformat": 4,
  "nbformat_minor": 0,
  "metadata": {
    "colab": {
      "provenance": [],
      "authorship_tag": "ABX9TyO+xp3easAiEQ4A9ePbOhdG",
      "include_colab_link": true
    },
    "kernelspec": {
      "name": "python3",
      "display_name": "Python 3"
    },
    "language_info": {
      "name": "python"
    }
  },
  "cells": [
    {
      "cell_type": "markdown",
      "metadata": {
        "id": "view-in-github",
        "colab_type": "text"
      },
      "source": [
        "<a href=\"https://colab.research.google.com/github/superoverflow/notebooks/blob/main/DND_D20_Advantage_Disadvantage.ipynb\" target=\"_parent\"><img src=\"https://colab.research.google.com/assets/colab-badge.svg\" alt=\"Open In Colab\"/></a>"
      ]
    },
    {
      "cell_type": "markdown",
      "source": [
        "[DnD rules](https://bg3.wiki/wiki/Advantage) says if you have advantage, then you roll 2 D20 and take the max if you have a disadvantage, then you roll 2 D20 and take the min\n",
        "\n",
        "Calculate the expected roll for advantage and disadvantage"
      ],
      "metadata": {
        "id": "LJQEfIKlNouq"
      }
    },
    {
      "cell_type": "code",
      "source": [
        "# imports\n",
        "import numpy as np"
      ],
      "metadata": {
        "id": "PHVWtL7PNsCO"
      },
      "execution_count": 9,
      "outputs": []
    },
    {
      "cell_type": "markdown",
      "source": [
        "D20 can be represented as a numpy array"
      ],
      "metadata": {
        "id": "hMMAlcBWNwvF"
      }
    },
    {
      "cell_type": "code",
      "source": [
        "D20 = np.arange(1, 21)\n",
        "D20"
      ],
      "metadata": {
        "id": "rxcvRv64Nu_8",
        "colab": {
          "base_uri": "https://localhost:8080/"
        },
        "outputId": "0cfbabc2-0152-4110-8e18-07f317c7be87"
      },
      "execution_count": 10,
      "outputs": [
        {
          "output_type": "execute_result",
          "data": {
            "text/plain": [
              "array([ 1,  2,  3,  4,  5,  6,  7,  8,  9, 10, 11, 12, 13, 14, 15, 16, 17,\n",
              "       18, 19, 20])"
            ]
          },
          "metadata": {},
          "execution_count": 10
        }
      ]
    },
    {
      "cell_type": "markdown",
      "source": [
        "If we roll two D20, with first dice rolled 5, the expected outcome for another dice would be:"
      ],
      "metadata": {
        "id": "JhYFj6xDNzR8"
      }
    },
    {
      "cell_type": "code",
      "source": [
        "np.maximum(5, D20)"
      ],
      "metadata": {
        "id": "3kFpoTKfN1Bg",
        "colab": {
          "base_uri": "https://localhost:8080/"
        },
        "outputId": "74a96b38-9cd4-43df-d639-57353682084a"
      },
      "execution_count": 11,
      "outputs": [
        {
          "output_type": "execute_result",
          "data": {
            "text/plain": [
              "array([ 5,  5,  5,  5,  5,  6,  7,  8,  9, 10, 11, 12, 13, 14, 15, 16, 17,\n",
              "       18, 19, 20])"
            ]
          },
          "metadata": {},
          "execution_count": 11
        }
      ]
    },
    {
      "cell_type": "markdown",
      "source": [
        "We can first list out all possibility and calculate the expected value for advantage situation"
      ],
      "metadata": {
        "id": "nPjARESXN3zz"
      }
    },
    {
      "cell_type": "code",
      "source": [
        "A = D20\n",
        "for i in range(2, 21):\n",
        "  A = np.vstack((A, np.maximum(i, D20)))\n",
        "\n",
        "A"
      ],
      "metadata": {
        "id": "l3eaLQRHN5iH",
        "colab": {
          "base_uri": "https://localhost:8080/"
        },
        "outputId": "43809031-7ea1-498d-d340-640965e6e4b1"
      },
      "execution_count": 12,
      "outputs": [
        {
          "output_type": "execute_result",
          "data": {
            "text/plain": [
              "array([[ 1,  2,  3,  4,  5,  6,  7,  8,  9, 10, 11, 12, 13, 14, 15, 16,\n",
              "        17, 18, 19, 20],\n",
              "       [ 2,  2,  3,  4,  5,  6,  7,  8,  9, 10, 11, 12, 13, 14, 15, 16,\n",
              "        17, 18, 19, 20],\n",
              "       [ 3,  3,  3,  4,  5,  6,  7,  8,  9, 10, 11, 12, 13, 14, 15, 16,\n",
              "        17, 18, 19, 20],\n",
              "       [ 4,  4,  4,  4,  5,  6,  7,  8,  9, 10, 11, 12, 13, 14, 15, 16,\n",
              "        17, 18, 19, 20],\n",
              "       [ 5,  5,  5,  5,  5,  6,  7,  8,  9, 10, 11, 12, 13, 14, 15, 16,\n",
              "        17, 18, 19, 20],\n",
              "       [ 6,  6,  6,  6,  6,  6,  7,  8,  9, 10, 11, 12, 13, 14, 15, 16,\n",
              "        17, 18, 19, 20],\n",
              "       [ 7,  7,  7,  7,  7,  7,  7,  8,  9, 10, 11, 12, 13, 14, 15, 16,\n",
              "        17, 18, 19, 20],\n",
              "       [ 8,  8,  8,  8,  8,  8,  8,  8,  9, 10, 11, 12, 13, 14, 15, 16,\n",
              "        17, 18, 19, 20],\n",
              "       [ 9,  9,  9,  9,  9,  9,  9,  9,  9, 10, 11, 12, 13, 14, 15, 16,\n",
              "        17, 18, 19, 20],\n",
              "       [10, 10, 10, 10, 10, 10, 10, 10, 10, 10, 11, 12, 13, 14, 15, 16,\n",
              "        17, 18, 19, 20],\n",
              "       [11, 11, 11, 11, 11, 11, 11, 11, 11, 11, 11, 12, 13, 14, 15, 16,\n",
              "        17, 18, 19, 20],\n",
              "       [12, 12, 12, 12, 12, 12, 12, 12, 12, 12, 12, 12, 13, 14, 15, 16,\n",
              "        17, 18, 19, 20],\n",
              "       [13, 13, 13, 13, 13, 13, 13, 13, 13, 13, 13, 13, 13, 14, 15, 16,\n",
              "        17, 18, 19, 20],\n",
              "       [14, 14, 14, 14, 14, 14, 14, 14, 14, 14, 14, 14, 14, 14, 15, 16,\n",
              "        17, 18, 19, 20],\n",
              "       [15, 15, 15, 15, 15, 15, 15, 15, 15, 15, 15, 15, 15, 15, 15, 16,\n",
              "        17, 18, 19, 20],\n",
              "       [16, 16, 16, 16, 16, 16, 16, 16, 16, 16, 16, 16, 16, 16, 16, 16,\n",
              "        17, 18, 19, 20],\n",
              "       [17, 17, 17, 17, 17, 17, 17, 17, 17, 17, 17, 17, 17, 17, 17, 17,\n",
              "        17, 18, 19, 20],\n",
              "       [18, 18, 18, 18, 18, 18, 18, 18, 18, 18, 18, 18, 18, 18, 18, 18,\n",
              "        18, 18, 19, 20],\n",
              "       [19, 19, 19, 19, 19, 19, 19, 19, 19, 19, 19, 19, 19, 19, 19, 19,\n",
              "        19, 19, 19, 20],\n",
              "       [20, 20, 20, 20, 20, 20, 20, 20, 20, 20, 20, 20, 20, 20, 20, 20,\n",
              "        20, 20, 20, 20]])"
            ]
          },
          "metadata": {},
          "execution_count": 12
        }
      ]
    },
    {
      "cell_type": "code",
      "source": [
        "np.average(A)"
      ],
      "metadata": {
        "id": "-BYYNbqqOBay",
        "colab": {
          "base_uri": "https://localhost:8080/"
        },
        "outputId": "8f3e8809-db06-449d-8977-db7b4d95300f"
      },
      "execution_count": 13,
      "outputs": [
        {
          "output_type": "execute_result",
          "data": {
            "text/plain": [
              "13.825"
            ]
          },
          "metadata": {},
          "execution_count": 13
        }
      ]
    },
    {
      "cell_type": "markdown",
      "source": [
        "Similiarly for disadvantage"
      ],
      "metadata": {
        "id": "fq7GCv_yOCye"
      }
    },
    {
      "cell_type": "code",
      "source": [
        "D = np.full((1, 20), 1)\n",
        "for i in range(2, 21):\n",
        "  D = np.vstack((D, np.minimum(i, D20)))\n",
        "\n",
        "D"
      ],
      "metadata": {
        "colab": {
          "base_uri": "https://localhost:8080/"
        },
        "id": "Tb-wEBRMOJ1s",
        "outputId": "ace252a1-cf98-4f8b-d533-e57a4967771d"
      },
      "execution_count": 14,
      "outputs": [
        {
          "output_type": "execute_result",
          "data": {
            "text/plain": [
              "array([[ 1,  1,  1,  1,  1,  1,  1,  1,  1,  1,  1,  1,  1,  1,  1,  1,\n",
              "         1,  1,  1,  1],\n",
              "       [ 1,  2,  2,  2,  2,  2,  2,  2,  2,  2,  2,  2,  2,  2,  2,  2,\n",
              "         2,  2,  2,  2],\n",
              "       [ 1,  2,  3,  3,  3,  3,  3,  3,  3,  3,  3,  3,  3,  3,  3,  3,\n",
              "         3,  3,  3,  3],\n",
              "       [ 1,  2,  3,  4,  4,  4,  4,  4,  4,  4,  4,  4,  4,  4,  4,  4,\n",
              "         4,  4,  4,  4],\n",
              "       [ 1,  2,  3,  4,  5,  5,  5,  5,  5,  5,  5,  5,  5,  5,  5,  5,\n",
              "         5,  5,  5,  5],\n",
              "       [ 1,  2,  3,  4,  5,  6,  6,  6,  6,  6,  6,  6,  6,  6,  6,  6,\n",
              "         6,  6,  6,  6],\n",
              "       [ 1,  2,  3,  4,  5,  6,  7,  7,  7,  7,  7,  7,  7,  7,  7,  7,\n",
              "         7,  7,  7,  7],\n",
              "       [ 1,  2,  3,  4,  5,  6,  7,  8,  8,  8,  8,  8,  8,  8,  8,  8,\n",
              "         8,  8,  8,  8],\n",
              "       [ 1,  2,  3,  4,  5,  6,  7,  8,  9,  9,  9,  9,  9,  9,  9,  9,\n",
              "         9,  9,  9,  9],\n",
              "       [ 1,  2,  3,  4,  5,  6,  7,  8,  9, 10, 10, 10, 10, 10, 10, 10,\n",
              "        10, 10, 10, 10],\n",
              "       [ 1,  2,  3,  4,  5,  6,  7,  8,  9, 10, 11, 11, 11, 11, 11, 11,\n",
              "        11, 11, 11, 11],\n",
              "       [ 1,  2,  3,  4,  5,  6,  7,  8,  9, 10, 11, 12, 12, 12, 12, 12,\n",
              "        12, 12, 12, 12],\n",
              "       [ 1,  2,  3,  4,  5,  6,  7,  8,  9, 10, 11, 12, 13, 13, 13, 13,\n",
              "        13, 13, 13, 13],\n",
              "       [ 1,  2,  3,  4,  5,  6,  7,  8,  9, 10, 11, 12, 13, 14, 14, 14,\n",
              "        14, 14, 14, 14],\n",
              "       [ 1,  2,  3,  4,  5,  6,  7,  8,  9, 10, 11, 12, 13, 14, 15, 15,\n",
              "        15, 15, 15, 15],\n",
              "       [ 1,  2,  3,  4,  5,  6,  7,  8,  9, 10, 11, 12, 13, 14, 15, 16,\n",
              "        16, 16, 16, 16],\n",
              "       [ 1,  2,  3,  4,  5,  6,  7,  8,  9, 10, 11, 12, 13, 14, 15, 16,\n",
              "        17, 17, 17, 17],\n",
              "       [ 1,  2,  3,  4,  5,  6,  7,  8,  9, 10, 11, 12, 13, 14, 15, 16,\n",
              "        17, 18, 18, 18],\n",
              "       [ 1,  2,  3,  4,  5,  6,  7,  8,  9, 10, 11, 12, 13, 14, 15, 16,\n",
              "        17, 18, 19, 19],\n",
              "       [ 1,  2,  3,  4,  5,  6,  7,  8,  9, 10, 11, 12, 13, 14, 15, 16,\n",
              "        17, 18, 19, 20]])"
            ]
          },
          "metadata": {},
          "execution_count": 14
        }
      ]
    },
    {
      "cell_type": "code",
      "source": [
        "np.average(D)"
      ],
      "metadata": {
        "colab": {
          "base_uri": "https://localhost:8080/"
        },
        "id": "9OrKR8uPOKhs",
        "outputId": "ec4644e4-56b3-41d4-b069-124de5918ebe"
      },
      "execution_count": 15,
      "outputs": [
        {
          "output_type": "execute_result",
          "data": {
            "text/plain": [
              "7.175"
            ]
          },
          "metadata": {},
          "execution_count": 15
        }
      ]
    },
    {
      "cell_type": "markdown",
      "source": [
        "**Conclusion**\n",
        "\n",
        "- For D20, the expected roll is 10.5\n",
        "- For D20 advantage, the expected roll would be 13.825\n",
        "- For D20 disadvantage, the expected roll would be 7.175\n",
        "\n",
        "\n",
        "Compare with [Bless spell](https://bg3.wiki/wiki/Bless), which gives 1D4 and so the expected roll became 13. Advantage situation still do bit better"
      ],
      "metadata": {
        "id": "2yQuT0DEOQbn"
      }
    }
  ]
}